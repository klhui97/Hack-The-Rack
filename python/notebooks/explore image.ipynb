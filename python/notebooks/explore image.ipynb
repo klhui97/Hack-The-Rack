{
 "cells": [
  {
   "cell_type": "code",
   "execution_count": 116,
   "metadata": {},
   "outputs": [],
   "source": [
    "import pprint\n",
    "import os\n",
    "import random\n",
    "from PIL import Image\n",
    "\n",
    "import pandas as pd\n",
    "import numpy as np"
   ]
  },
  {
   "cell_type": "code",
   "execution_count": 90,
   "metadata": {},
   "outputs": [],
   "source": [
    "images_files = os.listdir('./Images')"
   ]
  },
  {
   "cell_type": "code",
   "execution_count": 117,
   "metadata": {},
   "outputs": [],
   "source": [
    "img = Image.open('./Images/' + images_files[0])\n",
    "arr = np.array(img)"
   ]
  },
  {
   "cell_type": "code",
   "execution_count": 123,
   "metadata": {},
   "outputs": [
    {
     "data": {
      "text/plain": [
       "(1940, 1365, 3)"
      ]
     },
     "execution_count": 123,
     "metadata": {},
     "output_type": "execute_result"
    }
   ],
   "source": [
    "arr.shape"
   ]
  },
  {
   "cell_type": "code",
   "execution_count": 122,
   "metadata": {},
   "outputs": [
    {
     "data": {
      "text/plain": [
       "3"
      ]
     },
     "execution_count": 122,
     "metadata": {},
     "output_type": "execute_result"
    }
   ],
   "source": [
    "len(arr[1][0])"
   ]
  },
  {
   "cell_type": "code",
   "execution_count": null,
   "metadata": {},
   "outputs": [],
   "source": [
    "pd.read_csv('data_dictionary.docx')"
   ]
  },
  {
   "cell_type": "code",
   "execution_count": 3,
   "metadata": {},
   "outputs": [
    {
     "name": "stderr",
     "output_type": "stream",
     "text": [
      "/usr/local/lib/python3.6/site-packages/IPython/core/interactiveshell.py:2728: DtypeWarning: Columns (0,1,2,4,5,6,7,8,10,11,12,13,14,15,16,17,18,19,20,21,22,23,24,25,26,27,28,29,30,31,32,33,34,35) have mixed types. Specify dtype option on import or set low_memory=False.\n",
      "  interactivity=interactivity, compiler=compiler, result=result)\n"
     ]
    }
   ],
   "source": [
    "df = pd.read_csv('tagged_results.csv')"
   ]
  },
  {
   "cell_type": "code",
   "execution_count": 41,
   "metadata": {},
   "outputs": [],
   "source": [
    "not_null = df[~df['attributes'].isnull()]"
   ]
  },
  {
   "cell_type": "code",
   "execution_count": 46,
   "metadata": {
    "scrolled": true
   },
   "outputs": [
    {
     "name": "stderr",
     "output_type": "stream",
     "text": [
      "/usr/local/lib/python3.6/site-packages/ipykernel_launcher.py:1: SettingWithCopyWarning: \n",
      "A value is trying to be set on a copy of a slice from a DataFrame.\n",
      "Try using .loc[row_indexer,col_indexer] = value instead\n",
      "\n",
      "See the caveats in the documentation: http://pandas.pydata.org/pandas-docs/stable/indexing.html#indexing-view-versus-copy\n",
      "  \"\"\"Entry point for launching an IPython kernel.\n"
     ]
    }
   ],
   "source": [
    "not_null['parsed_attributes'] = not_null.dropna(axis=1)['attributes'].apply(lambda x: eval(str(x)))"
   ]
  },
  {
   "cell_type": "code",
   "execution_count": 70,
   "metadata": {},
   "outputs": [
    {
     "data": {
      "text/plain": [
       "Index(['attributes', 'filename', 'parsed_attributes'], dtype='object')"
      ]
     },
     "execution_count": 70,
     "metadata": {},
     "output_type": "execute_result"
    }
   ],
   "source": [
    "not_null.dropna(axis=1).columns"
   ]
  },
  {
   "cell_type": "code",
   "execution_count": 109,
   "metadata": {},
   "outputs": [],
   "source": [
    "example = [15971, 15947, 19408, 15453]"
   ]
  },
  {
   "cell_type": "code",
   "execution_count": 113,
   "metadata": {
    "scrolled": true
   },
   "outputs": [
    {
     "name": "stdout",
     "output_type": "stream",
     "text": [
      "19408\n"
     ]
    },
    {
     "data": {
      "text/plain": [
       "('k_975523_1_20170918222846000.jpg',\n",
       " {'actual_color_shade': ['Rice'],\n",
       "  'age_group': ['Child'],\n",
       "  'apparel_category': ['Girls'],\n",
       "  'apparel_pattern': ['Solid'],\n",
       "  'closure_type': ['Button & Zipper'],\n",
       "  'clothing_fit': ['Regular'],\n",
       "  'color_category': ['White'],\n",
       "  'country_of_origin': ['Imported'],\n",
       "  'fabric_care_instruction': ['Do Not Iron', 'Dry Flat', 'Machine Wash'],\n",
       "  'fabric_content': ['100% Polyester'],\n",
       "  'fabric_material': ['Knit'],\n",
       "  'gender': ['Women'],\n",
       "  'lining': ['Lined'],\n",
       "  'lining_material': ['Polyester'],\n",
       "  'machine_washable': ['Yes'],\n",
       "  'sleeve_length': ['Short'],\n",
       "  'sleeve_style': ['Cap Sleeve']})"
      ]
     },
     "execution_count": 113,
     "metadata": {},
     "output_type": "execute_result"
    }
   ],
   "source": [
    "num = random.randint(0, len(not_null))\n",
    "num = 19408\n",
    "print(num)\n",
    "not_null['filename'][num], not_null['parsed_attributes'][num]"
   ]
  },
  {
   "cell_type": "code",
   "execution_count": 16,
   "metadata": {},
   "outputs": [
    {
     "data": {
      "text/html": [
       "<div>\n",
       "<style scoped>\n",
       "    .dataframe tbody tr th:only-of-type {\n",
       "        vertical-align: middle;\n",
       "    }\n",
       "\n",
       "    .dataframe tbody tr th {\n",
       "        vertical-align: top;\n",
       "    }\n",
       "\n",
       "    .dataframe thead th {\n",
       "        text-align: right;\n",
       "    }\n",
       "</style>\n",
       "<table border=\"1\" class=\"dataframe\">\n",
       "  <thead>\n",
       "    <tr style=\"text-align: right;\">\n",
       "      <th></th>\n",
       "      <th>attributes</th>\n",
       "      <th>bag_shape</th>\n",
       "      <th>bounding_box</th>\n",
       "      <th>category</th>\n",
       "      <th>closure_type</th>\n",
       "      <th>coat_style</th>\n",
       "      <th>denim_wash_color</th>\n",
       "      <th>dress_length</th>\n",
       "      <th>dress_shape</th>\n",
       "      <th>filename</th>\n",
       "      <th>...</th>\n",
       "      <th>skirt_shape</th>\n",
       "      <th>sleeve_length</th>\n",
       "      <th>sleeve_style</th>\n",
       "      <th>sub_category</th>\n",
       "      <th>sweater_neckline</th>\n",
       "      <th>sweater_style</th>\n",
       "      <th>sweatshirt_neckline</th>\n",
       "      <th>toe_shape</th>\n",
       "      <th>toe_type</th>\n",
       "      <th>top_length</th>\n",
       "    </tr>\n",
       "  </thead>\n",
       "  <tbody>\n",
       "    <tr>\n",
       "      <th>0</th>\n",
       "      <td>{'Pattern': ['Solid'], 'Color': ['Blue'], 'Gen...</td>\n",
       "      <td>NaN</td>\n",
       "      <td>NaN</td>\n",
       "      <td>Clothing</td>\n",
       "      <td>NaN</td>\n",
       "      <td>NaN</td>\n",
       "      <td>NaN</td>\n",
       "      <td>NaN</td>\n",
       "      <td>NaN</td>\n",
       "      <td>941234bleach1_1_20160414065445545.jpg</td>\n",
       "      <td>...</td>\n",
       "      <td>NaN</td>\n",
       "      <td>NaN</td>\n",
       "      <td>NaN</td>\n",
       "      <td>Upper Body Garments</td>\n",
       "      <td>NaN</td>\n",
       "      <td>NaN</td>\n",
       "      <td>NaN</td>\n",
       "      <td>NaN</td>\n",
       "      <td>NaN</td>\n",
       "      <td>NaN</td>\n",
       "    </tr>\n",
       "    <tr>\n",
       "      <th>27383</th>\n",
       "      <td>NaN</td>\n",
       "      <td>NaN</td>\n",
       "      <td>[]</td>\n",
       "      <td>cardigan</td>\n",
       "      <td>zip</td>\n",
       "      <td>NaN</td>\n",
       "      <td>NaN</td>\n",
       "      <td>NaN</td>\n",
       "      <td>NaN</td>\n",
       "      <td>941234bleach1_1_20160414065445545.jpg</td>\n",
       "      <td>...</td>\n",
       "      <td>NaN</td>\n",
       "      <td>NaN</td>\n",
       "      <td>NaN</td>\n",
       "      <td>NaN</td>\n",
       "      <td>NaN</td>\n",
       "      <td>NaN</td>\n",
       "      <td>NaN</td>\n",
       "      <td>NaN</td>\n",
       "      <td>NaN</td>\n",
       "      <td>NaN</td>\n",
       "    </tr>\n",
       "  </tbody>\n",
       "</table>\n",
       "<p>2 rows × 36 columns</p>\n",
       "</div>"
      ],
      "text/plain": [
       "                                              attributes bag_shape  \\\n",
       "0      {'Pattern': ['Solid'], 'Color': ['Blue'], 'Gen...       NaN   \n",
       "27383                                                NaN       NaN   \n",
       "\n",
       "      bounding_box  category closure_type coat_style denim_wash_color  \\\n",
       "0              NaN  Clothing          NaN        NaN              NaN   \n",
       "27383           []  cardigan          zip        NaN              NaN   \n",
       "\n",
       "      dress_length dress_shape                               filename  \\\n",
       "0              NaN         NaN  941234bleach1_1_20160414065445545.jpg   \n",
       "27383          NaN         NaN  941234bleach1_1_20160414065445545.jpg   \n",
       "\n",
       "         ...     skirt_shape sleeve_length sleeve_style         sub_category  \\\n",
       "0        ...             NaN           NaN          NaN  Upper Body Garments   \n",
       "27383    ...             NaN           NaN          NaN                  NaN   \n",
       "\n",
       "      sweater_neckline sweater_style sweatshirt_neckline toe_shape toe_type  \\\n",
       "0                  NaN           NaN                 NaN       NaN      NaN   \n",
       "27383              NaN           NaN                 NaN       NaN      NaN   \n",
       "\n",
       "      top_length  \n",
       "0            NaN  \n",
       "27383        NaN  \n",
       "\n",
       "[2 rows x 36 columns]"
      ]
     },
     "execution_count": 16,
     "metadata": {},
     "output_type": "execute_result"
    }
   ],
   "source": [
    "df[df['filename'] == '941234bleach1_1_20160414065445545.jpg']"
   ]
  },
  {
   "cell_type": "code",
   "execution_count": 24,
   "metadata": {},
   "outputs": [
    {
     "data": {
      "text/html": [
       "<div>\n",
       "<style scoped>\n",
       "    .dataframe tbody tr th:only-of-type {\n",
       "        vertical-align: middle;\n",
       "    }\n",
       "\n",
       "    .dataframe tbody tr th {\n",
       "        vertical-align: top;\n",
       "    }\n",
       "\n",
       "    .dataframe thead th {\n",
       "        text-align: right;\n",
       "    }\n",
       "</style>\n",
       "<table border=\"1\" class=\"dataframe\">\n",
       "  <thead>\n",
       "    <tr style=\"text-align: right;\">\n",
       "      <th></th>\n",
       "      <th>attributes</th>\n",
       "      <th>bag_shape</th>\n",
       "      <th>bounding_box</th>\n",
       "      <th>category</th>\n",
       "      <th>closure_type</th>\n",
       "      <th>coat_style</th>\n",
       "      <th>denim_wash_color</th>\n",
       "      <th>dress_length</th>\n",
       "      <th>dress_shape</th>\n",
       "      <th>filename</th>\n",
       "      <th>...</th>\n",
       "      <th>skirt_shape</th>\n",
       "      <th>sleeve_length</th>\n",
       "      <th>sleeve_style</th>\n",
       "      <th>sub_category</th>\n",
       "      <th>sweater_neckline</th>\n",
       "      <th>sweater_style</th>\n",
       "      <th>sweatshirt_neckline</th>\n",
       "      <th>toe_shape</th>\n",
       "      <th>toe_type</th>\n",
       "      <th>top_length</th>\n",
       "    </tr>\n",
       "  </thead>\n",
       "  <tbody>\n",
       "    <tr>\n",
       "      <th>1</th>\n",
       "      <td>{'Pattern': ['Solid'], 'Color': ['Gray'], 'Gen...</td>\n",
       "      <td>NaN</td>\n",
       "      <td>NaN</td>\n",
       "      <td>Clothing</td>\n",
       "      <td>NaN</td>\n",
       "      <td>NaN</td>\n",
       "      <td>NaN</td>\n",
       "      <td>NaN</td>\n",
       "      <td>NaN</td>\n",
       "      <td>140172472_3_20161214075635169.jpg</td>\n",
       "      <td>...</td>\n",
       "      <td>NaN</td>\n",
       "      <td>NaN</td>\n",
       "      <td>NaN</td>\n",
       "      <td>Upper Body Garments</td>\n",
       "      <td>NaN</td>\n",
       "      <td>NaN</td>\n",
       "      <td>NaN</td>\n",
       "      <td>NaN</td>\n",
       "      <td>NaN</td>\n",
       "      <td>NaN</td>\n",
       "    </tr>\n",
       "    <tr>\n",
       "      <th>29738</th>\n",
       "      <td>NaN</td>\n",
       "      <td>NaN</td>\n",
       "      <td>[]</td>\n",
       "      <td>cardigan</td>\n",
       "      <td>button</td>\n",
       "      <td>NaN</td>\n",
       "      <td>NaN</td>\n",
       "      <td>NaN</td>\n",
       "      <td>NaN</td>\n",
       "      <td>140172472_3_20161214075635169.jpg</td>\n",
       "      <td>...</td>\n",
       "      <td>NaN</td>\n",
       "      <td>NaN</td>\n",
       "      <td>NaN</td>\n",
       "      <td>NaN</td>\n",
       "      <td>NaN</td>\n",
       "      <td>NaN</td>\n",
       "      <td>NaN</td>\n",
       "      <td>NaN</td>\n",
       "      <td>NaN</td>\n",
       "      <td>NaN</td>\n",
       "    </tr>\n",
       "  </tbody>\n",
       "</table>\n",
       "<p>2 rows × 36 columns</p>\n",
       "</div>"
      ],
      "text/plain": [
       "                                              attributes bag_shape  \\\n",
       "1      {'Pattern': ['Solid'], 'Color': ['Gray'], 'Gen...       NaN   \n",
       "29738                                                NaN       NaN   \n",
       "\n",
       "      bounding_box  category closure_type coat_style denim_wash_color  \\\n",
       "1              NaN  Clothing          NaN        NaN              NaN   \n",
       "29738           []  cardigan       button        NaN              NaN   \n",
       "\n",
       "      dress_length dress_shape                           filename    ...      \\\n",
       "1              NaN         NaN  140172472_3_20161214075635169.jpg    ...       \n",
       "29738          NaN         NaN  140172472_3_20161214075635169.jpg    ...       \n",
       "\n",
       "      skirt_shape sleeve_length sleeve_style         sub_category  \\\n",
       "1             NaN           NaN          NaN  Upper Body Garments   \n",
       "29738         NaN           NaN          NaN                  NaN   \n",
       "\n",
       "      sweater_neckline sweater_style sweatshirt_neckline toe_shape toe_type  \\\n",
       "1                  NaN           NaN                 NaN       NaN      NaN   \n",
       "29738              NaN           NaN                 NaN       NaN      NaN   \n",
       "\n",
       "      top_length  \n",
       "1            NaN  \n",
       "29738        NaN  \n",
       "\n",
       "[2 rows x 36 columns]"
      ]
     },
     "execution_count": 24,
     "metadata": {},
     "output_type": "execute_result"
    }
   ],
   "source": [
    "df[df['filename'] == '140172472_3_20161214075635169.jpg']"
   ]
  },
  {
   "cell_type": "code",
   "execution_count": 10,
   "metadata": {},
   "outputs": [
    {
     "name": "stdout",
     "output_type": "stream",
     "text": [
      "(\"{'Pattern': ['Solid'], 'Color': ['Blue'], 'Gender': ['Female'], 'Sleeve \"\n",
      " \"Length': ['Long Sleeve'], 'Is Hooded': ['No'], 'Sweatshirt & Hoodie Type': \"\n",
      " \"[], 'Age Group': ['Adult']}\")\n"
     ]
    }
   ],
   "source": [
    "pprint.pprint(df['attributes'][0])"
   ]
  },
  {
   "cell_type": "code",
   "execution_count": null,
   "metadata": {},
   "outputs": [],
   "source": []
  }
 ],
 "metadata": {
  "kernelspec": {
   "display_name": "Python 3",
   "language": "python",
   "name": "python3"
  },
  "language_info": {
   "codemirror_mode": {
    "name": "ipython",
    "version": 3
   },
   "file_extension": ".py",
   "mimetype": "text/x-python",
   "name": "python",
   "nbconvert_exporter": "python",
   "pygments_lexer": "ipython3",
   "version": "3.6.5"
  }
 },
 "nbformat": 4,
 "nbformat_minor": 2
}
